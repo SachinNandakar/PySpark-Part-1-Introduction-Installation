{
 "cells": [
  {
   "cell_type": "markdown",
   "id": "c523c653",
   "metadata": {},
   "source": [
    "## PySpark Session-5"
   ]
  },
  {
   "cell_type": "code",
   "execution_count": 1,
   "id": "fd7b1567",
   "metadata": {},
   "outputs": [],
   "source": [
    "# Create spark session and import the dataset\n",
    "\n",
    "from pyspark.sql import SparkSession"
   ]
  },
  {
   "cell_type": "code",
   "execution_count": 3,
   "id": "2b8592dd",
   "metadata": {},
   "outputs": [],
   "source": [
    "spark = SparkSession.builder.appName(\"Practice\").getOrCreate()"
   ]
  },
  {
   "cell_type": "code",
   "execution_count": 4,
   "id": "1e5c63e6",
   "metadata": {},
   "outputs": [
    {
     "name": "stdout",
     "output_type": "stream",
     "text": [
      "+----+---+---+----+------+\n",
      "|Name|Age|Exp|Dept|Salary|\n",
      "+----+---+---+----+------+\n",
      "|   A| 21|  3|  DS| 30000|\n",
      "|   B| 23|  4|  DS| 45000|\n",
      "|   C| 22|  3|  AI| 38000|\n",
      "|   D| 24|  4|  ML| 55000|\n",
      "|   E| 25|  5|  ML| 60000|\n",
      "|   F| 24|  3|  AI| 58000|\n",
      "|   G| 25|  5| IOT| 62000|\n",
      "|   H| 22|  2| IOT| 28000|\n",
      "+----+---+---+----+------+\n",
      "\n"
     ]
    }
   ],
   "source": [
    "df_pyspark = spark.read.csv(\"Test5.csv\", header=True, inferSchema=True)\n",
    "\n",
    "df_pyspark.show()"
   ]
  },
  {
   "cell_type": "code",
   "execution_count": 9,
   "id": "b1f7445b",
   "metadata": {},
   "outputs": [
    {
     "name": "stdout",
     "output_type": "stream",
     "text": [
      "root\n",
      " |-- Name: string (nullable = true)\n",
      " |-- Age: integer (nullable = true)\n",
      " |-- Exp: integer (nullable = true)\n",
      " |-- Dept: string (nullable = true)\n",
      " |-- Salary: integer (nullable = true)\n",
      "\n"
     ]
    }
   ],
   "source": [
    "# To understand the data type use printSchema\n",
    "# Its always better to know the data types before going for groupby and aggregation\n",
    "\n",
    "df_pyspark.printSchema()"
   ]
  },
  {
   "cell_type": "code",
   "execution_count": 10,
   "id": "00046a85",
   "metadata": {},
   "outputs": [
    {
     "name": "stdout",
     "output_type": "stream",
     "text": [
      "+----+--------+--------+-----------+\n",
      "|Name|sum(Age)|sum(Exp)|sum(Salary)|\n",
      "+----+--------+--------+-----------+\n",
      "|   F|      24|       3|      58000|\n",
      "|   E|      25|       5|      60000|\n",
      "|   B|      23|       4|      45000|\n",
      "|   D|      24|       4|      55000|\n",
      "|   C|      22|       3|      38000|\n",
      "|   A|      21|       3|      30000|\n",
      "|   G|      25|       5|      62000|\n",
      "|   H|      22|       2|      28000|\n",
      "+----+--------+--------+-----------+\n",
      "\n"
     ]
    }
   ],
   "source": [
    "# Groupby function:\n",
    "# Here will be using the groupby function and some aggregate functions\n",
    "\n",
    "df_pyspark.groupBy(\"Name\").sum().show()"
   ]
  },
  {
   "cell_type": "code",
   "execution_count": 15,
   "id": "faf44b5f",
   "metadata": {},
   "outputs": [
    {
     "name": "stdout",
     "output_type": "stream",
     "text": [
      "+----+-----------+\n",
      "|Dept|sum(Salary)|\n",
      "+----+-----------+\n",
      "| IOT|      90000|\n",
      "|  AI|      96000|\n",
      "|  DS|      75000|\n",
      "|  ML|     115000|\n",
      "+----+-----------+\n",
      "\n"
     ]
    }
   ],
   "source": [
    "# Note: Please make a note that that aggregative functions will be applid to integer datatype\n",
    "\n",
    "# Groupby dept and find the sum of Salary only\n",
    "\n",
    "df_pyspark.groupBy(\"Dept\").sum(\"Salary\").show()"
   ]
  },
  {
   "cell_type": "code",
   "execution_count": 16,
   "id": "167560c5",
   "metadata": {},
   "outputs": [
    {
     "name": "stdout",
     "output_type": "stream",
     "text": [
      "+----+-----------+\n",
      "|Dept|avg(Salary)|\n",
      "+----+-----------+\n",
      "| IOT|    45000.0|\n",
      "|  AI|    48000.0|\n",
      "|  DS|    37500.0|\n",
      "|  ML|    57500.0|\n",
      "+----+-----------+\n",
      "\n"
     ]
    }
   ],
   "source": [
    "# Groupby dept and find the mean Salary only\n",
    "\n",
    "df_pyspark.groupBy(\"Dept\").mean(\"Salary\").show()"
   ]
  },
  {
   "cell_type": "code",
   "execution_count": 17,
   "id": "f77082c6",
   "metadata": {},
   "outputs": [
    {
     "name": "stdout",
     "output_type": "stream",
     "text": [
      "+----+-----+\n",
      "|Dept|count|\n",
      "+----+-----+\n",
      "| IOT|    2|\n",
      "|  AI|    2|\n",
      "|  DS|    2|\n",
      "|  ML|    2|\n",
      "+----+-----+\n",
      "\n"
     ]
    }
   ],
   "source": [
    "# Groupby dept and find the count\n",
    "\n",
    "df_pyspark.groupBy(\"Dept\").count().show()"
   ]
  },
  {
   "cell_type": "code",
   "execution_count": 18,
   "id": "4e74c29a",
   "metadata": {},
   "outputs": [
    {
     "name": "stdout",
     "output_type": "stream",
     "text": [
      "+-----------+\n",
      "|sum(salary)|\n",
      "+-----------+\n",
      "|     376000|\n",
      "+-----------+\n",
      "\n"
     ]
    }
   ],
   "source": [
    "# Applying direct aggregate functoin 'agg'\n",
    "\n",
    "df_pyspark.agg({'salary':'sum'}).show()"
   ]
  },
  {
   "cell_type": "code",
   "execution_count": null,
   "id": "fc028504",
   "metadata": {},
   "outputs": [],
   "source": [
    "# In addition to these, we have other aggregate functions like min, max, sum, avg, pivot..."
   ]
  }
 ],
 "metadata": {
  "kernelspec": {
   "display_name": "Python 3",
   "language": "python",
   "name": "python3"
  },
  "language_info": {
   "codemirror_mode": {
    "name": "ipython",
    "version": 3
   },
   "file_extension": ".py",
   "mimetype": "text/x-python",
   "name": "python",
   "nbconvert_exporter": "python",
   "pygments_lexer": "ipython3",
   "version": "3.8.10"
  }
 },
 "nbformat": 4,
 "nbformat_minor": 5
}
