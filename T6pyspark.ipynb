{
 "cells": [
  {
   "cell_type": "markdown",
   "id": "f41e861b",
   "metadata": {},
   "source": [
    "## PySpark Session-6:"
   ]
  },
  {
   "cell_type": "markdown",
   "id": "4d6681a0",
   "metadata": {},
   "source": [
    "## PySpark MLib: Machine Learning Package\n",
    "    Implementing Regression Model"
   ]
  },
  {
   "cell_type": "code",
   "execution_count": 2,
   "id": "72c98b46",
   "metadata": {},
   "outputs": [],
   "source": [
    "# Create spark session and import the dataset\n",
    "\n",
    "from pyspark.sql import SparkSession"
   ]
  },
  {
   "cell_type": "code",
   "execution_count": 4,
   "id": "6a47ae92",
   "metadata": {},
   "outputs": [],
   "source": [
    "spark = SparkSession.builder.appName(\"Mlib\").getOrCreate()"
   ]
  },
  {
   "cell_type": "code",
   "execution_count": 5,
   "id": "2677c2f7",
   "metadata": {},
   "outputs": [],
   "source": [
    "df_pyspark = spark.read.csv(\"Test6.csv\", header=True, inferSchema=True)"
   ]
  },
  {
   "cell_type": "code",
   "execution_count": 6,
   "id": "660fc9c3",
   "metadata": {},
   "outputs": [
    {
     "name": "stdout",
     "output_type": "stream",
     "text": [
      "+----+---+---+------+\n",
      "|Name|Age|Exp|Salary|\n",
      "+----+---+---+------+\n",
      "|   A| 21|  3| 30000|\n",
      "|   B| 23|  4| 45000|\n",
      "|   C| 22|  3| 38000|\n",
      "|   D| 24|  4| 55000|\n",
      "|   E| 25|  5| 60000|\n",
      "|   F| 24|  3| 58000|\n",
      "|   G| 25|  5| 62000|\n",
      "|   H| 22|  2| 28000|\n",
      "+----+---+---+------+\n",
      "\n"
     ]
    }
   ],
   "source": [
    "df_pyspark.show()"
   ]
  },
  {
   "cell_type": "code",
   "execution_count": 7,
   "id": "98fa4a4e",
   "metadata": {},
   "outputs": [
    {
     "name": "stdout",
     "output_type": "stream",
     "text": [
      "root\n",
      " |-- Name: string (nullable = true)\n",
      " |-- Age: integer (nullable = true)\n",
      " |-- Exp: integer (nullable = true)\n",
      " |-- Salary: integer (nullable = true)\n",
      "\n"
     ]
    }
   ],
   "source": [
    "df_pyspark.printSchema()"
   ]
  },
  {
   "cell_type": "code",
   "execution_count": 8,
   "id": "31e58232",
   "metadata": {},
   "outputs": [],
   "source": [
    "# Fitting regression model:\n",
    "# Age & Exp as Independent Variables/features\n",
    "# Salary: Dependent/predicted or target variable\n",
    "\n",
    "#  [Age, Exp] --- Independent_Features\n",
    "#  [Salry]    --- Dependent Feature"
   ]
  },
  {
   "cell_type": "code",
   "execution_count": 10,
   "id": "62804c95",
   "metadata": {},
   "outputs": [],
   "source": [
    "from pyspark.ml.feature import VectorAssembler\n",
    "\n",
    "feature_as_assmb = VectorAssembler(inputCols=[\"Age\",\"Exp\"], outputCol=\"Independent_Features\")"
   ]
  },
  {
   "cell_type": "code",
   "execution_count": 13,
   "id": "b46b5689",
   "metadata": {},
   "outputs": [
    {
     "name": "stdout",
     "output_type": "stream",
     "text": [
      "+----+---+---+------+--------------------+\n",
      "|Name|Age|Exp|Salary|Independent_Features|\n",
      "+----+---+---+------+--------------------+\n",
      "|   A| 21|  3| 30000|          [21.0,3.0]|\n",
      "|   B| 23|  4| 45000|          [23.0,4.0]|\n",
      "|   C| 22|  3| 38000|          [22.0,3.0]|\n",
      "|   D| 24|  4| 55000|          [24.0,4.0]|\n",
      "|   E| 25|  5| 60000|          [25.0,5.0]|\n",
      "|   F| 24|  3| 58000|          [24.0,3.0]|\n",
      "|   G| 25|  5| 62000|          [25.0,5.0]|\n",
      "|   H| 22|  2| 28000|          [22.0,2.0]|\n",
      "+----+---+---+------+--------------------+\n",
      "\n"
     ]
    }
   ],
   "source": [
    "# Transform the AGE & EXP as One single Feature \"Independent_Features\"\n",
    "# It will be combined together and tradformed \n",
    "\n",
    "trans_dataset = feature_as_assmb.transform(df_pyspark)\n",
    "trans_dataset.show()"
   ]
  },
  {
   "cell_type": "code",
   "execution_count": 14,
   "id": "b0b40865",
   "metadata": {},
   "outputs": [
    {
     "data": {
      "text/plain": [
       "['Name', 'Age', 'Exp', 'Salary', 'Independent_Features']"
      ]
     },
     "execution_count": 14,
     "metadata": {},
     "output_type": "execute_result"
    }
   ],
   "source": [
    "# Check out all columns of dataset\n",
    "trans_dataset.columns"
   ]
  },
  {
   "cell_type": "code",
   "execution_count": 16,
   "id": "afa5f5be",
   "metadata": {},
   "outputs": [
    {
     "name": "stdout",
     "output_type": "stream",
     "text": [
      "+--------------------+------+\n",
      "|Independent_Features|Salary|\n",
      "+--------------------+------+\n",
      "|          [21.0,3.0]| 30000|\n",
      "|          [23.0,4.0]| 45000|\n",
      "|          [22.0,3.0]| 38000|\n",
      "|          [24.0,4.0]| 55000|\n",
      "|          [25.0,5.0]| 60000|\n",
      "|          [24.0,3.0]| 58000|\n",
      "|          [25.0,5.0]| 62000|\n",
      "|          [22.0,2.0]| 28000|\n",
      "+--------------------+------+\n",
      "\n"
     ]
    }
   ],
   "source": [
    "# In this, we require only Independent_Features & Salary variables\n",
    "# Wherein, Independent_Features: Independent Variable    Salary: Dependent Variable\n",
    "\n",
    "Final_Reg_Data = trans_dataset.select(\"Independent_Features\", \"Salary\")\n",
    "Final_Reg_Data.show()"
   ]
  },
  {
   "cell_type": "code",
   "execution_count": 19,
   "id": "66749d74",
   "metadata": {},
   "outputs": [],
   "source": [
    "from pyspark.ml.regression import LinearRegression\n",
    "\n",
    "# Train-Test Splist:\n",
    "train_data, test_data = Final_Reg_Data.randomSplit([0.75,0.25])"
   ]
  },
  {
   "cell_type": "code",
   "execution_count": 22,
   "id": "8f4374e3",
   "metadata": {},
   "outputs": [],
   "source": [
    "regressor = LinearRegression(featuresCol=\"Independent_Features\", labelCol=\"Salary\")\n",
    "\n",
    "regressor = regressor.fit(train_data)"
   ]
  },
  {
   "cell_type": "code",
   "execution_count": 23,
   "id": "d9e46497",
   "metadata": {},
   "outputs": [
    {
     "data": {
      "text/plain": [
       "DenseVector([9428.5714, -3285.7143])"
      ]
     },
     "execution_count": 23,
     "metadata": {},
     "output_type": "execute_result"
    }
   ],
   "source": [
    "# Regression Co-efficients\n",
    "regressor.coefficients"
   ]
  },
  {
   "cell_type": "code",
   "execution_count": 24,
   "id": "d6787b23",
   "metadata": {},
   "outputs": [
    {
     "data": {
      "text/plain": [
       "-158714.28571428492"
      ]
     },
     "execution_count": 24,
     "metadata": {},
     "output_type": "execute_result"
    }
   ],
   "source": [
    "# Regression Intercept Value\n",
    "regressor.intercept"
   ]
  },
  {
   "cell_type": "code",
   "execution_count": 25,
   "id": "3ae29025",
   "metadata": {},
   "outputs": [],
   "source": [
    "# Prediction Results\n",
    "\n",
    "pred_res = regressor.evaluate(test_data)"
   ]
  },
  {
   "cell_type": "code",
   "execution_count": 26,
   "id": "e5fc0ca6",
   "metadata": {},
   "outputs": [
    {
     "name": "stdout",
     "output_type": "stream",
     "text": [
      "+--------------------+------+------------------+\n",
      "|Independent_Features|Salary|        prediction|\n",
      "+--------------------+------+------------------+\n",
      "|          [22.0,2.0]| 28000|42142.857142857654|\n",
      "|          [24.0,4.0]| 55000| 54428.57142857116|\n",
      "|          [25.0,5.0]| 60000| 60571.42857142794|\n",
      "|          [25.0,5.0]| 62000| 60571.42857142794|\n",
      "+--------------------+------+------------------+\n",
      "\n"
     ]
    }
   ],
   "source": [
    "pred_res.predictions.show()"
   ]
  },
  {
   "cell_type": "code",
   "execution_count": 30,
   "id": "d48add65",
   "metadata": {},
   "outputs": [
    {
     "data": {
      "text/plain": [
       "(4178.571428571624, 50678571.428575404)"
      ]
     },
     "execution_count": 30,
     "metadata": {},
     "output_type": "execute_result"
    }
   ],
   "source": [
    "# Find the Mean_Absolute_Error & Mean_Squared_Error\n",
    "\n",
    "pred_res.meanAbsoluteError, pred_res.meanSquaredError"
   ]
  },
  {
   "cell_type": "code",
   "execution_count": null,
   "id": "a6830046",
   "metadata": {},
   "outputs": [],
   "source": []
  }
 ],
 "metadata": {
  "kernelspec": {
   "display_name": "Python 3",
   "language": "python",
   "name": "python3"
  },
  "language_info": {
   "codemirror_mode": {
    "name": "ipython",
    "version": 3
   },
   "file_extension": ".py",
   "mimetype": "text/x-python",
   "name": "python",
   "nbconvert_exporter": "python",
   "pygments_lexer": "ipython3",
   "version": "3.8.10"
  }
 },
 "nbformat": 4,
 "nbformat_minor": 5
}
