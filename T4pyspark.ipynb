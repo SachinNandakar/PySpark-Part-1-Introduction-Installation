{
 "cells": [
  {
   "cell_type": "markdown",
   "id": "ef41042a",
   "metadata": {},
   "source": [
    "## PySpark Session-4:"
   ]
  },
  {
   "cell_type": "code",
   "execution_count": 1,
   "id": "7d92de71",
   "metadata": {},
   "outputs": [],
   "source": [
    "# create spark session and import the data\n",
    "from pyspark.sql import SparkSession"
   ]
  },
  {
   "cell_type": "code",
   "execution_count": 3,
   "id": "d1fe1f58",
   "metadata": {},
   "outputs": [],
   "source": [
    "spark = SparkSession.builder.appName(\"Practice\").getOrCreate()"
   ]
  },
  {
   "cell_type": "code",
   "execution_count": 4,
   "id": "8f1b18d2",
   "metadata": {},
   "outputs": [],
   "source": [
    "df_pyspark = spark.read.csv(\"Test4.csv\", header='True', inferSchema=True)"
   ]
  },
  {
   "cell_type": "code",
   "execution_count": 5,
   "id": "4e26ceb5",
   "metadata": {},
   "outputs": [
    {
     "name": "stdout",
     "output_type": "stream",
     "text": [
      "+----+---+---+------+\n",
      "|Name|Age|Exp|Salary|\n",
      "+----+---+---+------+\n",
      "|   A| 21|  3| 30000|\n",
      "|   B| 23|  4| 45000|\n",
      "|   C| 22|  3| 38000|\n",
      "|   D| 24|  4| 55000|\n",
      "|   E| 25|  5| 60000|\n",
      "|   F| 24|  3| 58000|\n",
      "|   G| 25|  5| 62000|\n",
      "|   H| 22|  2| 28000|\n",
      "+----+---+---+------+\n",
      "\n"
     ]
    }
   ],
   "source": [
    "df_pyspark.show()"
   ]
  },
  {
   "cell_type": "code",
   "execution_count": 12,
   "id": "bd98ab61",
   "metadata": {},
   "outputs": [
    {
     "name": "stdout",
     "output_type": "stream",
     "text": [
      "+----+---+---+------+\n",
      "|Name|Age|Exp|Salary|\n",
      "+----+---+---+------+\n",
      "|   A| 21|  3| 30000|\n",
      "|   C| 22|  3| 38000|\n",
      "|   H| 22|  2| 28000|\n",
      "+----+---+---+------+\n",
      "\n",
      "+----+---+---+------+\n",
      "|Name|Age|Exp|Salary|\n",
      "+----+---+---+------+\n",
      "|   A| 21|  3| 30000|\n",
      "|   C| 22|  3| 38000|\n",
      "|   H| 22|  2| 28000|\n",
      "+----+---+---+------+\n",
      "\n"
     ]
    }
   ],
   "source": [
    "# Filter operation in Spark package\n",
    "# Filter: salary less than 40000\n",
    "\n",
    "df_pyspark.filter(\"Salary<40000\")\n",
    "df_pyspark.filter(\"Salary<40000\").show()\n",
    "\n",
    "# Another way of coding:\n",
    "df_pyspark.filter(df_pyspark[\"Salary\"]<40000).show()"
   ]
  },
  {
   "cell_type": "code",
   "execution_count": 10,
   "id": "83b0d1a4",
   "metadata": {},
   "outputs": [
    {
     "name": "stdout",
     "output_type": "stream",
     "text": [
      "+----+------+\n",
      "|Name|Salary|\n",
      "+----+------+\n",
      "|   A| 30000|\n",
      "|   C| 38000|\n",
      "|   H| 28000|\n",
      "+----+------+\n",
      "\n"
     ]
    }
   ],
   "source": [
    "# Filter data and select only particular columns\n",
    "# Filter the data: salary < 40000 and select columns Name, Salary\n",
    "\n",
    "df_pyspark.filter(\"Salary<40000\").select([\"Name\",\"Salary\"])\n",
    "df_pyspark.filter(\"Salary<40000\").select([\"Name\",\"Salary\"]).show()"
   ]
  },
  {
   "cell_type": "code",
   "execution_count": 20,
   "id": "7c99ac48",
   "metadata": {},
   "outputs": [
    {
     "name": "stdout",
     "output_type": "stream",
     "text": [
      "+----+---+---+------+\n",
      "|Name|Age|Exp|Salary|\n",
      "+----+---+---+------+\n",
      "|   A| 21|  3| 30000|\n",
      "|   C| 22|  3| 38000|\n",
      "+----+---+---+------+\n",
      "\n"
     ]
    }
   ],
   "source": [
    "# Putting multiple conditions\n",
    "# Salary < 40000 and Exp=3years\n",
    "df_pyspark.filter( (df_pyspark[\"Salary\"]<40000) & (df_pyspark[\"Exp\"]==3) )\n",
    "df_pyspark.filter( (df_pyspark[\"Salary\"]<40000) & (df_pyspark[\"Exp\"]==3) ).show()"
   ]
  },
  {
   "cell_type": "code",
   "execution_count": 21,
   "id": "bf0570cb",
   "metadata": {},
   "outputs": [
    {
     "name": "stdout",
     "output_type": "stream",
     "text": [
      "+----+---+---+------+\n",
      "|Name|Age|Exp|Salary|\n",
      "+----+---+---+------+\n",
      "|   B| 23|  4| 45000|\n",
      "|   D| 24|  4| 55000|\n",
      "|   E| 25|  5| 60000|\n",
      "|   F| 24|  3| 58000|\n",
      "|   G| 25|  5| 62000|\n",
      "+----+---+---+------+\n",
      "\n"
     ]
    }
   ],
   "source": [
    "# Inverse filter operation\n",
    "# Use ~ to reverse the filter condition\n",
    "\n",
    "df_pyspark.filter(~(df_pyspark[\"Salary\"]<40000)).show()"
   ]
  },
  {
   "cell_type": "code",
   "execution_count": null,
   "id": "af18392e",
   "metadata": {},
   "outputs": [],
   "source": []
  }
 ],
 "metadata": {
  "kernelspec": {
   "display_name": "Python 3",
   "language": "python",
   "name": "python3"
  },
  "language_info": {
   "codemirror_mode": {
    "name": "ipython",
    "version": 3
   },
   "file_extension": ".py",
   "mimetype": "text/x-python",
   "name": "python",
   "nbconvert_exporter": "python",
   "pygments_lexer": "ipython3",
   "version": "3.8.10"
  }
 },
 "nbformat": 4,
 "nbformat_minor": 5
}
