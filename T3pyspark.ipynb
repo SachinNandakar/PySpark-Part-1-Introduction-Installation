{
 "cells": [
  {
   "cell_type": "markdown",
   "id": "a9a19791",
   "metadata": {},
   "source": [
    "## PySpark Session-3:"
   ]
  },
  {
   "cell_type": "code",
   "execution_count": 1,
   "id": "715896bd",
   "metadata": {},
   "outputs": [],
   "source": [
    "# Create pyspark session\n",
    "from pyspark.sql import SparkSession"
   ]
  },
  {
   "cell_type": "code",
   "execution_count": 24,
   "id": "7f784337",
   "metadata": {},
   "outputs": [],
   "source": [
    "spark = SparkSession.builder.appName(\"Practice\").getOrCreate()"
   ]
  },
  {
   "cell_type": "code",
   "execution_count": 25,
   "id": "563e944e",
   "metadata": {},
   "outputs": [],
   "source": [
    "# Load the dataset\n",
    "df_pyspark = spark.read.csv(\"Test3.csv\", header=True, inferSchema=True)"
   ]
  },
  {
   "cell_type": "code",
   "execution_count": 26,
   "id": "8139d65c",
   "metadata": {},
   "outputs": [
    {
     "data": {
      "text/plain": [
       "DataFrame[summary: string, Name: string, Age: string, Exp: string, Salary: string]"
      ]
     },
     "execution_count": 26,
     "metadata": {},
     "output_type": "execute_result"
    }
   ],
   "source": [
    "df_pyspark.describe()"
   ]
  },
  {
   "cell_type": "code",
   "execution_count": 27,
   "id": "306cb54a",
   "metadata": {},
   "outputs": [
    {
     "name": "stdout",
     "output_type": "stream",
     "text": [
      "+----+----+----+------+\n",
      "|Name| Age| Exp|Salary|\n",
      "+----+----+----+------+\n",
      "|   A|  21|   3| 30000|\n",
      "|   B|  23|   4| 45000|\n",
      "|   C|  22|   3| 38000|\n",
      "|   D|  24|   4| 55000|\n",
      "|   E|null|null| 60000|\n",
      "|   F|  24|   3| 58000|\n",
      "|null|  25|null| 62000|\n",
      "+----+----+----+------+\n",
      "\n"
     ]
    }
   ],
   "source": [
    "df_pyspark.show()"
   ]
  },
  {
   "cell_type": "code",
   "execution_count": 28,
   "id": "2b74a607",
   "metadata": {},
   "outputs": [
    {
     "name": "stdout",
     "output_type": "stream",
     "text": [
      "+----+---+---+------+\n",
      "|Name|Age|Exp|Salary|\n",
      "+----+---+---+------+\n",
      "|   A| 21|  3| 30000|\n",
      "|   B| 23|  4| 45000|\n",
      "|   C| 22|  3| 38000|\n",
      "|   D| 24|  4| 55000|\n",
      "|   F| 24|  3| 58000|\n",
      "+----+---+---+------+\n",
      "\n"
     ]
    }
   ],
   "source": [
    "df_pyspark.na.drop() #To drop the null valued rows\n",
    "df_pyspark.na.drop().show()"
   ]
  },
  {
   "cell_type": "code",
   "execution_count": 29,
   "id": "3dbff1c9",
   "metadata": {},
   "outputs": [
    {
     "name": "stdout",
     "output_type": "stream",
     "text": [
      "+----+----+----+------+\n",
      "|Name| Age| Exp|Salary|\n",
      "+----+----+----+------+\n",
      "|   A|  21|   3| 30000|\n",
      "|   B|  23|   4| 45000|\n",
      "|   C|  22|   3| 38000|\n",
      "|   D|  24|   4| 55000|\n",
      "|   E|null|null| 60000|\n",
      "|   F|  24|   3| 58000|\n",
      "|null|  25|null| 62000|\n",
      "+----+----+----+------+\n",
      "\n",
      "+----+---+---+------+\n",
      "|Name|Age|Exp|Salary|\n",
      "+----+---+---+------+\n",
      "|   A| 21|  3| 30000|\n",
      "|   B| 23|  4| 45000|\n",
      "|   C| 22|  3| 38000|\n",
      "|   D| 24|  4| 55000|\n",
      "|   F| 24|  3| 58000|\n",
      "+----+---+---+------+\n",
      "\n"
     ]
    }
   ],
   "source": [
    "# using how parameter: how parameter takes two values, any & all\n",
    "# any: delete if any one null value present in row      all: delete the row if all are null values\n",
    "\n",
    "df_pyspark.na.drop(how=\"all\")\n",
    "df_pyspark.na.drop(how=\"all\").show()\n",
    "\n",
    "df_pyspark.na.drop(how=\"any\")\n",
    "df_pyspark.na.drop(how=\"any\").show()"
   ]
  },
  {
   "cell_type": "code",
   "execution_count": 30,
   "id": "8a388718",
   "metadata": {},
   "outputs": [
    {
     "name": "stdout",
     "output_type": "stream",
     "text": [
      "+----+----+----+------+\n",
      "|Name| Age| Exp|Salary|\n",
      "+----+----+----+------+\n",
      "|   A|  21|   3| 30000|\n",
      "|   B|  23|   4| 45000|\n",
      "|   C|  22|   3| 38000|\n",
      "|   D|  24|   4| 55000|\n",
      "|   E|null|null| 60000|\n",
      "|   F|  24|   3| 58000|\n",
      "|null|  25|null| 62000|\n",
      "+----+----+----+------+\n",
      "\n",
      "+----+---+---+------+\n",
      "|Name|Age|Exp|Salary|\n",
      "+----+---+---+------+\n",
      "|   A| 21|  3| 30000|\n",
      "|   B| 23|  4| 45000|\n",
      "|   C| 22|  3| 38000|\n",
      "|   D| 24|  4| 55000|\n",
      "|   F| 24|  3| 58000|\n",
      "+----+---+---+------+\n",
      "\n"
     ]
    }
   ],
   "source": [
    "# Threshold:\n",
    "# It specifies the threshold value to be assigned\n",
    "# if thresh=2: it will retain the row if there are two values(non-null), it will delete the row if \n",
    "#              its contain only one value(non-null)\n",
    "\n",
    "df_pyspark.na.drop(how='any', thresh=2).show()\n",
    "df_pyspark.na.drop(how='any', thresh=3).show()"
   ]
  },
  {
   "cell_type": "code",
   "execution_count": 31,
   "id": "ed2dd36d",
   "metadata": {},
   "outputs": [
    {
     "name": "stdout",
     "output_type": "stream",
     "text": [
      "+----+---+----+------+\n",
      "|Name|Age| Exp|Salary|\n",
      "+----+---+----+------+\n",
      "|   A| 21|   3| 30000|\n",
      "|   B| 23|   4| 45000|\n",
      "|   C| 22|   3| 38000|\n",
      "|   D| 24|   4| 55000|\n",
      "|   F| 24|   3| 58000|\n",
      "|null| 25|null| 62000|\n",
      "+----+---+----+------+\n",
      "\n",
      "+----+----+----+------+\n",
      "|Name| Age| Exp|Salary|\n",
      "+----+----+----+------+\n",
      "|   A|  21|   3| 30000|\n",
      "|   B|  23|   4| 45000|\n",
      "|   C|  22|   3| 38000|\n",
      "|   D|  24|   4| 55000|\n",
      "|   E|null|null| 60000|\n",
      "|   F|  24|   3| 58000|\n",
      "+----+----+----+------+\n",
      "\n"
     ]
    }
   ],
   "source": [
    "# Subset Parameter:\n",
    "# This parameter can be used to specify the column where we are searching null values\n",
    "# it will search the null values in particular column & if found delete the rows of null values\n",
    "\n",
    "df_pyspark.na.drop(how='any', subset=['Age'])   # It will delete the rows of null values only pertain Age column\n",
    "df_pyspark.na.drop(how='any', subset=['Age']).show()\n",
    "\n",
    "df_pyspark.na.drop(how='any', subset=['Name'])   # It will delete the rows of null values only pertain Name column\n",
    "df_pyspark.na.drop(how='any', subset=['Name']).show()\n"
   ]
  },
  {
   "cell_type": "code",
   "execution_count": 33,
   "id": "c23d812c",
   "metadata": {},
   "outputs": [
    {
     "name": "stdout",
     "output_type": "stream",
     "text": [
      "+--------+----+----+------+\n",
      "|    Name| Age| Exp|Salary|\n",
      "+--------+----+----+------+\n",
      "|       A|  21|   3| 30000|\n",
      "|       B|  23|   4| 45000|\n",
      "|       C|  22|   3| 38000|\n",
      "|       D|  24|   4| 55000|\n",
      "|       E|null|null| 60000|\n",
      "|       F|  24|   3| 58000|\n",
      "|Val_Miss|  25|null| 62000|\n",
      "+--------+----+----+------+\n",
      "\n",
      "+----+----+----+------+\n",
      "|Name| Age| Exp|Salary|\n",
      "+----+----+----+------+\n",
      "|   A|  21|   3| 30000|\n",
      "|   B|  23|   4| 45000|\n",
      "|   C|  22|   3| 38000|\n",
      "|   D|  24|   4| 55000|\n",
      "|   E|null|null| 60000|\n",
      "|   F|  24|   3| 58000|\n",
      "|null|  25|null| 62000|\n",
      "+----+----+----+------+\n",
      "\n"
     ]
    }
   ],
   "source": [
    "# Filling the null/missing value\n",
    "df_pyspark.describe()\n",
    "df_pyspark.na.fill(value='Val_Miss').show() # it will replace all null values to Val_Miss\n",
    "df_pyspark.na.fill(value='Val_Miss',subset='Age').show() # it will replace all null values of Age column to Val_Miss"
   ]
  },
  {
   "cell_type": "code",
   "execution_count": 36,
   "id": "8bd1c037",
   "metadata": {},
   "outputs": [],
   "source": [
    "# Imputing the null values:\n",
    "\n",
    "from pyspark.ml.feature import Imputer\n",
    "\n",
    "imputer = Imputer(\n",
    "    inputCols = ['Age','Exp','Salary'],\n",
    "    outputCols = [\"{}_imputed\".format(c) for c in ['Age','Exp','Salary']]\n",
    "    ).setStrategy('mean')"
   ]
  },
  {
   "cell_type": "code",
   "execution_count": 37,
   "id": "665fc11d",
   "metadata": {},
   "outputs": [
    {
     "name": "stdout",
     "output_type": "stream",
     "text": [
      "+----+----+----+------+-----------+-----------+--------------+\n",
      "|Name| Age| Exp|Salary|Age_imputed|Exp_imputed|Salary_imputed|\n",
      "+----+----+----+------+-----------+-----------+--------------+\n",
      "|   A|  21|   3| 30000|         21|          3|         30000|\n",
      "|   B|  23|   4| 45000|         23|          4|         45000|\n",
      "|   C|  22|   3| 38000|         22|          3|         38000|\n",
      "|   D|  24|   4| 55000|         24|          4|         55000|\n",
      "|   E|null|null| 60000|         23|          3|         60000|\n",
      "|   F|  24|   3| 58000|         24|          3|         58000|\n",
      "|null|  25|null| 62000|         25|          3|         62000|\n",
      "+----+----+----+------+-----------+-----------+--------------+\n",
      "\n"
     ]
    }
   ],
   "source": [
    "# Adding imputation to the columns\n",
    "imputer.fit(df_pyspark).transform(df_pyspark).show()"
   ]
  },
  {
   "cell_type": "code",
   "execution_count": null,
   "id": "d6453307",
   "metadata": {},
   "outputs": [],
   "source": []
  },
  {
   "cell_type": "code",
   "execution_count": null,
   "id": "61e05840",
   "metadata": {},
   "outputs": [],
   "source": []
  },
  {
   "cell_type": "code",
   "execution_count": null,
   "id": "bd7fe18e",
   "metadata": {},
   "outputs": [],
   "source": []
  }
 ],
 "metadata": {
  "kernelspec": {
   "display_name": "Python 3",
   "language": "python",
   "name": "python3"
  },
  "language_info": {
   "codemirror_mode": {
    "name": "ipython",
    "version": 3
   },
   "file_extension": ".py",
   "mimetype": "text/x-python",
   "name": "python",
   "nbconvert_exporter": "python",
   "pygments_lexer": "ipython3",
   "version": "3.8.10"
  }
 },
 "nbformat": 4,
 "nbformat_minor": 5
}
