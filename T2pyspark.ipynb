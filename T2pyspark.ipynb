{
 "cells": [
  {
   "cell_type": "markdown",
   "id": "6acc86a5",
   "metadata": {},
   "source": [
    "## PySpark Session-2:"
   ]
  },
  {
   "cell_type": "code",
   "execution_count": 4,
   "id": "6e5857a3",
   "metadata": {},
   "outputs": [],
   "source": [
    "# Create pyspark session\n",
    "from pyspark.sql import SparkSession"
   ]
  },
  {
   "cell_type": "code",
   "execution_count": 6,
   "id": "d68bd8fa",
   "metadata": {},
   "outputs": [],
   "source": [
    "spark = SparkSession.builder.appName(\"Dataframe\").getOrCreate()"
   ]
  },
  {
   "cell_type": "code",
   "execution_count": 7,
   "id": "772a196d",
   "metadata": {},
   "outputs": [],
   "source": [
    "# Read the daataset\n",
    "df_pyspark = spark.read.option('header','true').csv(\"Test2.csv\")"
   ]
  },
  {
   "cell_type": "code",
   "execution_count": 8,
   "id": "2493e58f",
   "metadata": {},
   "outputs": [
    {
     "data": {
      "text/plain": [
       "[Row(Name='A', Age='30', Experience='10'),\n",
       " Row(Name='B', Age='31', Experience='11'),\n",
       " Row(Name='C', Age='32', Experience='12')]"
      ]
     },
     "execution_count": 8,
     "metadata": {},
     "output_type": "execute_result"
    }
   ],
   "source": [
    "df_pyspark.head(3)"
   ]
  },
  {
   "cell_type": "code",
   "execution_count": 9,
   "id": "9f8b3df9",
   "metadata": {},
   "outputs": [
    {
     "name": "stdout",
     "output_type": "stream",
     "text": [
      "+----+---+----------+\n",
      "|Name|Age|Experience|\n",
      "+----+---+----------+\n",
      "|   A| 30|        10|\n",
      "|   B| 31|        11|\n",
      "|   C| 32|        12|\n",
      "|   D| 33|        13|\n",
      "+----+---+----------+\n",
      "\n"
     ]
    }
   ],
   "source": [
    "df_pyspark.show()"
   ]
  },
  {
   "cell_type": "code",
   "execution_count": 11,
   "id": "428c56d3",
   "metadata": {},
   "outputs": [
    {
     "name": "stdout",
     "output_type": "stream",
     "text": [
      "root\n",
      " |-- Name: string (nullable = true)\n",
      " |-- Age: string (nullable = true)\n",
      " |-- Experience: string (nullable = true)\n",
      "\n"
     ]
    }
   ],
   "source": [
    "# Check the schema, where all attributes are string by default\n",
    "df_pyspark.printSchema()"
   ]
  },
  {
   "cell_type": "code",
   "execution_count": 12,
   "id": "6b7fc1fc",
   "metadata": {},
   "outputs": [],
   "source": [
    "# To read the dataset and retain the datatype as that of dataset use inferSchema option\n",
    "df_pyspark = spark.read.option('header','true').csv(\"Test2.csv\",inferSchema=True)"
   ]
  },
  {
   "cell_type": "code",
   "execution_count": 13,
   "id": "27d17c11",
   "metadata": {},
   "outputs": [
    {
     "name": "stdout",
     "output_type": "stream",
     "text": [
      "root\n",
      " |-- Name: string (nullable = true)\n",
      " |-- Age: integer (nullable = true)\n",
      " |-- Experience: integer (nullable = true)\n",
      "\n"
     ]
    }
   ],
   "source": [
    "# Now if you use inferSchema and check the datatype of attributes\n",
    "df_pyspark.printSchema()"
   ]
  },
  {
   "cell_type": "code",
   "execution_count": 16,
   "id": "96429f21",
   "metadata": {},
   "outputs": [],
   "source": [
    "# Another method to read the dataset and retain datatypes as same\n",
    "df_pyspark = spark.read.csv(\"test2.csv\", header=True, inferSchema=True)"
   ]
  },
  {
   "cell_type": "code",
   "execution_count": 17,
   "id": "786223fb",
   "metadata": {},
   "outputs": [
    {
     "name": "stdout",
     "output_type": "stream",
     "text": [
      "root\n",
      " |-- Name: string (nullable = true)\n",
      " |-- Age: integer (nullable = true)\n",
      " |-- Experience: integer (nullable = true)\n",
      "\n"
     ]
    }
   ],
   "source": [
    "df_pyspark.printSchema()"
   ]
  },
  {
   "cell_type": "code",
   "execution_count": 20,
   "id": "b0fdccd6",
   "metadata": {},
   "outputs": [
    {
     "data": {
      "text/plain": [
       "['Name', 'Age', 'Experience']"
      ]
     },
     "execution_count": 20,
     "metadata": {},
     "output_type": "execute_result"
    }
   ],
   "source": [
    "# To view the column names\n",
    "df_pyspark.columns"
   ]
  },
  {
   "cell_type": "code",
   "execution_count": 21,
   "id": "f479214e",
   "metadata": {},
   "outputs": [
    {
     "data": {
      "text/plain": [
       "DataFrame[Name: string]"
      ]
     },
     "execution_count": 21,
     "metadata": {},
     "output_type": "execute_result"
    }
   ],
   "source": [
    "# Select one particular column of Dataframe\n",
    "df_pyspark.select(\"Name\")"
   ]
  },
  {
   "cell_type": "code",
   "execution_count": 22,
   "id": "12505851",
   "metadata": {},
   "outputs": [
    {
     "name": "stdout",
     "output_type": "stream",
     "text": [
      "+----+\n",
      "|Name|\n",
      "+----+\n",
      "|   A|\n",
      "|   B|\n",
      "|   C|\n",
      "|   D|\n",
      "+----+\n",
      "\n"
     ]
    }
   ],
   "source": [
    "# Select one particular column along with data\n",
    "df_pyspark.select(\"Name\").show()"
   ]
  },
  {
   "cell_type": "code",
   "execution_count": 23,
   "id": "45d38d97",
   "metadata": {},
   "outputs": [
    {
     "data": {
      "text/plain": [
       "DataFrame[Name: string, Experience: int]"
      ]
     },
     "execution_count": 23,
     "metadata": {},
     "output_type": "execute_result"
    }
   ],
   "source": [
    "# Select multiple columns of Dataframe\n",
    "df_pyspark.select([\"Name\",\"Experience\"])"
   ]
  },
  {
   "cell_type": "code",
   "execution_count": 25,
   "id": "286f6af1",
   "metadata": {},
   "outputs": [
    {
     "name": "stdout",
     "output_type": "stream",
     "text": [
      "+----+----------+\n",
      "|Name|Experience|\n",
      "+----+----------+\n",
      "|   A|        10|\n",
      "|   B|        11|\n",
      "|   C|        12|\n",
      "|   D|        13|\n",
      "+----+----------+\n",
      "\n"
     ]
    }
   ],
   "source": [
    "# Select multiple columns along with data\n",
    "df_pyspark.select([\"Name\",\"Experience\"]).show()"
   ]
  },
  {
   "cell_type": "code",
   "execution_count": 27,
   "id": "85b0a766",
   "metadata": {},
   "outputs": [
    {
     "data": {
      "text/plain": [
       "[('Name', 'string'), ('Age', 'int'), ('Experience', 'int')]"
      ]
     },
     "execution_count": 27,
     "metadata": {},
     "output_type": "execute_result"
    }
   ],
   "source": [
    "# Check the datatypes of dataframe\n",
    "df_pyspark.dtypes"
   ]
  },
  {
   "cell_type": "code",
   "execution_count": 29,
   "id": "a2946e1c",
   "metadata": {},
   "outputs": [
    {
     "data": {
      "text/plain": [
       "DataFrame[summary: string, Name: string, Age: string, Experience: string]"
      ]
     },
     "execution_count": 29,
     "metadata": {},
     "output_type": "execute_result"
    }
   ],
   "source": [
    "# Describe the dataframe\n",
    "df_pyspark.describe()"
   ]
  },
  {
   "cell_type": "code",
   "execution_count": 30,
   "id": "b7a16898",
   "metadata": {},
   "outputs": [
    {
     "name": "stdout",
     "output_type": "stream",
     "text": [
      "+-------+----+------------------+------------------+\n",
      "|summary|Name|               Age|        Experience|\n",
      "+-------+----+------------------+------------------+\n",
      "|  count|   4|                 4|                 4|\n",
      "|   mean|null|              31.5|              11.5|\n",
      "| stddev|null|1.2909944487358056|1.2909944487358056|\n",
      "|    min|   A|                30|                10|\n",
      "|    max|   D|                33|                13|\n",
      "+-------+----+------------------+------------------+\n",
      "\n"
     ]
    }
   ],
   "source": [
    "# Describe the dataframe with summary of cilumns\n",
    "df_pyspark.describe().show()"
   ]
  },
  {
   "cell_type": "code",
   "execution_count": 31,
   "id": "00ed362f",
   "metadata": {},
   "outputs": [
    {
     "data": {
      "text/plain": [
       "DataFrame[Name: string, Age: int, Experience: int, Exp_after_2yr: int]"
      ]
     },
     "execution_count": 31,
     "metadata": {},
     "output_type": "execute_result"
    }
   ],
   "source": [
    "# Adding a new column:  new_column_name = Exp after 2yr\n",
    "# use withColumn function\n",
    "df_pyspark.withColumn(\"Exp_after_2yr\",df_pyspark[\"Experience\"]+2)"
   ]
  },
  {
   "cell_type": "code",
   "execution_count": 32,
   "id": "b9a87c7d",
   "metadata": {},
   "outputs": [
    {
     "name": "stdout",
     "output_type": "stream",
     "text": [
      "+----+---+----------+-------------+\n",
      "|Name|Age|Experience|Exp_after_2yr|\n",
      "+----+---+----------+-------------+\n",
      "|   A| 30|        10|           12|\n",
      "|   B| 31|        11|           13|\n",
      "|   C| 32|        12|           14|\n",
      "|   D| 33|        13|           15|\n",
      "+----+---+----------+-------------+\n",
      "\n"
     ]
    }
   ],
   "source": [
    "df_pyspark.withColumn(\"Exp_after_2yr\",df_pyspark[\"Experience\"]+2).show()"
   ]
  },
  {
   "cell_type": "code",
   "execution_count": 33,
   "id": "c4706021",
   "metadata": {},
   "outputs": [],
   "source": [
    "df_pyspark = df_pyspark.withColumn(\"Exp_after_2yr\",df_pyspark[\"Experience\"]+2)"
   ]
  },
  {
   "cell_type": "code",
   "execution_count": 34,
   "id": "ad2f2baf",
   "metadata": {},
   "outputs": [
    {
     "name": "stdout",
     "output_type": "stream",
     "text": [
      "+----+---+----------+-------------+\n",
      "|Name|Age|Experience|Exp_after_2yr|\n",
      "+----+---+----------+-------------+\n",
      "|   A| 30|        10|           12|\n",
      "|   B| 31|        11|           13|\n",
      "|   C| 32|        12|           14|\n",
      "|   D| 33|        13|           15|\n",
      "+----+---+----------+-------------+\n",
      "\n"
     ]
    }
   ],
   "source": [
    "df_pyspark.show()"
   ]
  },
  {
   "cell_type": "code",
   "execution_count": 35,
   "id": "3dba14c9",
   "metadata": {},
   "outputs": [
    {
     "data": {
      "text/plain": [
       "DataFrame[Name: string, Age: int, Experience: int, Exp_after_2yr: int]"
      ]
     },
     "execution_count": 35,
     "metadata": {},
     "output_type": "execute_result"
    }
   ],
   "source": [
    "# Drop the column\n",
    "# drop the column Exp_after_2yr\n",
    "df_pyspark.drop(\"Exp_after-2yr\")"
   ]
  },
  {
   "cell_type": "code",
   "execution_count": 45,
   "id": "129015da",
   "metadata": {},
   "outputs": [
    {
     "name": "stdout",
     "output_type": "stream",
     "text": [
      "+----+---+----------+\n",
      "|Name|Age|Experience|\n",
      "+----+---+----------+\n",
      "|   A| 30|        10|\n",
      "|   B| 31|        11|\n",
      "|   C| 32|        12|\n",
      "|   D| 33|        13|\n",
      "+----+---+----------+\n",
      "\n"
     ]
    }
   ],
   "source": [
    "df_pyspark.drop(\"Exp_after_2yr\")\n",
    "df_pyspark.drop(\"Exp_after_2yr\").show()"
   ]
  },
  {
   "cell_type": "code",
   "execution_count": 47,
   "id": "d2433f71",
   "metadata": {},
   "outputs": [],
   "source": [
    "df_pyspark = df_pyspark.drop(\"Exp_after_2yr\")"
   ]
  },
  {
   "cell_type": "code",
   "execution_count": 49,
   "id": "fd815778",
   "metadata": {},
   "outputs": [
    {
     "name": "stdout",
     "output_type": "stream",
     "text": [
      "+----+---+----------+\n",
      "|Name|Age|Experience|\n",
      "+----+---+----------+\n",
      "|   A| 30|        10|\n",
      "|   B| 31|        11|\n",
      "|   C| 32|        12|\n",
      "|   D| 33|        13|\n",
      "+----+---+----------+\n",
      "\n"
     ]
    }
   ],
   "source": [
    "df_pyspark.show()"
   ]
  },
  {
   "cell_type": "code",
   "execution_count": 50,
   "id": "7712ecc1",
   "metadata": {},
   "outputs": [
    {
     "data": {
      "text/plain": [
       "DataFrame[Name: string, Age: int, Exp: int]"
      ]
     },
     "execution_count": 50,
     "metadata": {},
     "output_type": "execute_result"
    }
   ],
   "source": [
    "# Renaming columns\n",
    "# Rename the column Experience to Exp\n",
    "df_pyspark.withColumnRenamed(\"Experience\",\"Exp\")"
   ]
  },
  {
   "cell_type": "code",
   "execution_count": 52,
   "id": "1e7fa5bd",
   "metadata": {},
   "outputs": [],
   "source": [
    "df_pyspark = df_pyspark.withColumnRenamed(\"Experience\",\"Exp\")"
   ]
  },
  {
   "cell_type": "code",
   "execution_count": 53,
   "id": "1f5bba0f",
   "metadata": {},
   "outputs": [
    {
     "name": "stdout",
     "output_type": "stream",
     "text": [
      "+----+---+---+\n",
      "|Name|Age|Exp|\n",
      "+----+---+---+\n",
      "|   A| 30| 10|\n",
      "|   B| 31| 11|\n",
      "|   C| 32| 12|\n",
      "|   D| 33| 13|\n",
      "+----+---+---+\n",
      "\n"
     ]
    }
   ],
   "source": [
    "df_pyspark.show()"
   ]
  },
  {
   "cell_type": "code",
   "execution_count": null,
   "id": "ef79ce1e",
   "metadata": {},
   "outputs": [],
   "source": []
  }
 ],
 "metadata": {
  "kernelspec": {
   "display_name": "Python 3",
   "language": "python",
   "name": "python3"
  },
  "language_info": {
   "codemirror_mode": {
    "name": "ipython",
    "version": 3
   },
   "file_extension": ".py",
   "mimetype": "text/x-python",
   "name": "python",
   "nbconvert_exporter": "python",
   "pygments_lexer": "ipython3",
   "version": "3.8.10"
  }
 },
 "nbformat": 4,
 "nbformat_minor": 5
}
